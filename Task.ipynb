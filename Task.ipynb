{
 "cells": [
  {
   "cell_type": "code",
   "execution_count": 1,
   "id": "41ba325b-564c-495f-9dcd-e65ac20e6713",
   "metadata": {},
   "outputs": [
    {
     "name": "stdout",
     "output_type": "stream",
     "text": [
      "updated list: [1, 2, 4, 5, 456, 33]\n"
     ]
    }
   ],
   "source": [
    "#creating a list and performing different operations on it\n",
    "\n",
    "fine_list=[1,2,3,4,5,6]\n",
    "#adding an element to the list\n",
    "fine_list.append(33)\n",
    "#removing an element from the list\n",
    "fine_list.remove(3)\n",
    "#modifying the list\n",
    "fine_list[4]=456\n",
    "print(\"updated list:\",fine_list)\n"
   ]
  },
  {
   "cell_type": "code",
   "execution_count": 2,
   "id": "3c9819b7-d1e8-49d2-baf9-ab559be82745",
   "metadata": {},
   "outputs": [
    {
     "name": "stdout",
     "output_type": "stream",
     "text": [
      "updated dictionary: {'name': 'John', 'city': 'kochi', 'company': 'mainflow'}\n"
     ]
    }
   ],
   "source": [
    "#creating a dictionary and performing operations on it\n",
    "\n",
    "my_dictionary={'name':'John','age':25,'city':'Delhi'}\n",
    "#adding an element in the dictionary\n",
    "my_dictionary['company']='mainflow'\n",
    "#removing an element in the dictionary\n",
    "del my_dictionary['age']\n",
    "#modifying the dictionary\n",
    "my_dictionary['city']='kochi'\n",
    "#printing the dictionary\n",
    "print(\"updated dictionary:\",my_dictionary)\n",
    "\n"
   ]
  },
  {
   "cell_type": "code",
   "execution_count": 3,
   "id": "17cfe739-2dbf-4c34-9cb1-cc3d2a127145",
   "metadata": {},
   "outputs": [
    {
     "name": "stdout",
     "output_type": "stream",
     "text": [
      "updated set: {1, 3, 4, 5, 33, 8}\n"
     ]
    }
   ],
   "source": [
    "#creating a set and performing an operation \n",
    "my_set={1,2,3,4,5,6}\n",
    "\n",
    "#adding an element into the set\n",
    "my_set.add(8)\n",
    "#removing an element from the set\n",
    "my_set.remove(6)\n",
    "#modifying the set\n",
    "my_set.discard(2)\n",
    "my_set.add(33)\n",
    "#printing the set\n",
    "print(\"updated set:\",my_set)\n"
   ]
  },
  {
   "cell_type": "code",
   "execution_count": null,
   "id": "4d93f33b-d933-4977-aaae-8e2d3fc3bd91",
   "metadata": {},
   "outputs": [],
   "source": []
  },
  {
   "cell_type": "code",
   "execution_count": null,
   "id": "e1ada1ec-7e9c-4640-9b61-9c890871a366",
   "metadata": {},
   "outputs": [],
   "source": []
  }
 ],
 "metadata": {
  "kernelspec": {
   "display_name": "Python 3 (ipykernel)",
   "language": "python",
   "name": "python3"
  },
  "language_info": {
   "codemirror_mode": {
    "name": "ipython",
    "version": 3
   },
   "file_extension": ".py",
   "mimetype": "text/x-python",
   "name": "python",
   "nbconvert_exporter": "python",
   "pygments_lexer": "ipython3",
   "version": "3.12.3"
  }
 },
 "nbformat": 4,
 "nbformat_minor": 5
}
